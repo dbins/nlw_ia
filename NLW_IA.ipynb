{
  "nbformat": 4,
  "nbformat_minor": 0,
  "metadata": {
    "colab": {
      "provenance": []
    },
    "kernelspec": {
      "name": "python3",
      "display_name": "Python 3"
    },
    "language_info": {
      "name": "python"
    }
  },
  "cells": [
    {
      "cell_type": "code",
      "execution_count": null,
      "metadata": {
        "colab": {
          "base_uri": "https://localhost:8080/"
        },
        "id": "7_sZExC1V9Aw",
        "outputId": "cfe0a313-efba-4224-f365-cdaf98911cc9"
      },
      "outputs": [
        {
          "output_type": "stream",
          "name": "stdout",
          "text": [
            "\u001b[2K     \u001b[90m━━━━━━━━━━━━━━━━━━━━━━━━━━━━━━━━━━━━━━━━\u001b[0m \u001b[32m559.5/559.5 kB\u001b[0m \u001b[31m10.0 MB/s\u001b[0m eta \u001b[36m0:00:00\u001b[0m\n",
            "\u001b[2K     \u001b[90m━━━━━━━━━━━━━━━━━━━━━━━━━━━━━━━━━━━━━━━━\u001b[0m \u001b[32m2.4/2.4 MB\u001b[0m \u001b[31m50.4 MB/s\u001b[0m eta \u001b[36m0:00:00\u001b[0m\n",
            "\u001b[2K     \u001b[90m━━━━━━━━━━━━━━━━━━━━━━━━━━━━━━━━━━━━━━━━\u001b[0m \u001b[32m92.0/92.0 kB\u001b[0m \u001b[31m10.5 MB/s\u001b[0m eta \u001b[36m0:00:00\u001b[0m\n",
            "\u001b[2K     \u001b[90m━━━━━━━━━━━━━━━━━━━━━━━━━━━━━━━━━━━━━━━━\u001b[0m \u001b[32m62.4/62.4 kB\u001b[0m \u001b[31m7.6 MB/s\u001b[0m eta \u001b[36m0:00:00\u001b[0m\n",
            "\u001b[2K     \u001b[90m━━━━━━━━━━━━━━━━━━━━━━━━━━━━━━━━━━━━━━━━\u001b[0m \u001b[32m41.3/41.3 kB\u001b[0m \u001b[31m5.2 MB/s\u001b[0m eta \u001b[36m0:00:00\u001b[0m\n",
            "\u001b[2K     \u001b[90m━━━━━━━━━━━━━━━━━━━━━━━━━━━━━━━━━━━━━━━━\u001b[0m \u001b[32m6.8/6.8 MB\u001b[0m \u001b[31m69.2 MB/s\u001b[0m eta \u001b[36m0:00:00\u001b[0m\n",
            "\u001b[2K     \u001b[90m━━━━━━━━━━━━━━━━━━━━━━━━━━━━━━━━━━━━━━━━\u001b[0m \u001b[32m59.9/59.9 kB\u001b[0m \u001b[31m7.3 MB/s\u001b[0m eta \u001b[36m0:00:00\u001b[0m\n",
            "\u001b[2K     \u001b[90m━━━━━━━━━━━━━━━━━━━━━━━━━━━━━━━━━━━━━━━━\u001b[0m \u001b[32m107.0/107.0 kB\u001b[0m \u001b[31m11.9 MB/s\u001b[0m eta \u001b[36m0:00:00\u001b[0m\n",
            "\u001b[2K     \u001b[90m━━━━━━━━━━━━━━━━━━━━━━━━━━━━━━━━━━━━━━━━\u001b[0m \u001b[32m67.3/67.3 kB\u001b[0m \u001b[31m8.2 MB/s\u001b[0m eta \u001b[36m0:00:00\u001b[0m\n",
            "\u001b[?25h  Installing build dependencies ... \u001b[?25l\u001b[?25hdone\n",
            "  Getting requirements to build wheel ... \u001b[?25l\u001b[?25hdone\n",
            "  Preparing metadata (pyproject.toml) ... \u001b[?25l\u001b[?25hdone\n",
            "\u001b[2K     \u001b[90m━━━━━━━━━━━━━━━━━━━━━━━━━━━━━━━━━━━━━━━━\u001b[0m \u001b[32m283.7/283.7 kB\u001b[0m \u001b[31m29.5 MB/s\u001b[0m eta \u001b[36m0:00:00\u001b[0m\n",
            "\u001b[2K     \u001b[90m━━━━━━━━━━━━━━━━━━━━━━━━━━━━━━━━━━━━━━━━\u001b[0m \u001b[32m1.7/1.7 MB\u001b[0m \u001b[31m67.5 MB/s\u001b[0m eta \u001b[36m0:00:00\u001b[0m\n",
            "\u001b[2K     \u001b[90m━━━━━━━━━━━━━━━━━━━━━━━━━━━━━━━━━━━━━━━━\u001b[0m \u001b[32m67.6/67.6 kB\u001b[0m \u001b[31m8.1 MB/s\u001b[0m eta \u001b[36m0:00:00\u001b[0m\n",
            "\u001b[2K     \u001b[90m━━━━━━━━━━━━━━━━━━━━━━━━━━━━━━━━━━━━━━━━\u001b[0m \u001b[32m75.6/75.6 kB\u001b[0m \u001b[31m9.2 MB/s\u001b[0m eta \u001b[36m0:00:00\u001b[0m\n",
            "\u001b[2K     \u001b[90m━━━━━━━━━━━━━━━━━━━━━━━━━━━━━━━━━━━━━━━━\u001b[0m \u001b[32m71.9/71.9 kB\u001b[0m \u001b[31m8.2 MB/s\u001b[0m eta \u001b[36m0:00:00\u001b[0m\n",
            "\u001b[2K     \u001b[90m━━━━━━━━━━━━━━━━━━━━━━━━━━━━━━━━━━━━━━━━\u001b[0m \u001b[32m53.6/53.6 kB\u001b[0m \u001b[31m6.6 MB/s\u001b[0m eta \u001b[36m0:00:00\u001b[0m\n",
            "\u001b[2K     \u001b[90m━━━━━━━━━━━━━━━━━━━━━━━━━━━━━━━━━━━━━━━━\u001b[0m \u001b[32m77.9/77.9 kB\u001b[0m \u001b[31m8.8 MB/s\u001b[0m eta \u001b[36m0:00:00\u001b[0m\n",
            "\u001b[2K     \u001b[90m━━━━━━━━━━━━━━━━━━━━━━━━━━━━━━━━━━━━━━━━\u001b[0m \u001b[32m58.3/58.3 kB\u001b[0m \u001b[31m6.7 MB/s\u001b[0m eta \u001b[36m0:00:00\u001b[0m\n",
            "\u001b[2K     \u001b[90m━━━━━━━━━━━━━━━━━━━━━━━━━━━━━━━━━━━━━━━━\u001b[0m \u001b[32m46.0/46.0 kB\u001b[0m \u001b[31m6.0 MB/s\u001b[0m eta \u001b[36m0:00:00\u001b[0m\n",
            "\u001b[2K     \u001b[90m━━━━━━━━━━━━━━━━━━━━━━━━━━━━━━━━━━━━━━━━\u001b[0m \u001b[32m52.5/52.5 kB\u001b[0m \u001b[31m6.4 MB/s\u001b[0m eta \u001b[36m0:00:00\u001b[0m\n",
            "\u001b[2K     \u001b[90m━━━━━━━━━━━━━━━━━━━━━━━━━━━━━━━━━━━━━━━━\u001b[0m \u001b[32m130.5/130.5 kB\u001b[0m \u001b[31m15.0 MB/s\u001b[0m eta \u001b[36m0:00:00\u001b[0m\n",
            "\u001b[2K     \u001b[90m━━━━━━━━━━━━━━━━━━━━━━━━━━━━━━━━━━━━━━━━\u001b[0m \u001b[32m341.4/341.4 kB\u001b[0m \u001b[31m32.5 MB/s\u001b[0m eta \u001b[36m0:00:00\u001b[0m\n",
            "\u001b[2K     \u001b[90m━━━━━━━━━━━━━━━━━━━━━━━━━━━━━━━━━━━━━━━━\u001b[0m \u001b[32m3.4/3.4 MB\u001b[0m \u001b[31m64.8 MB/s\u001b[0m eta \u001b[36m0:00:00\u001b[0m\n",
            "\u001b[2K     \u001b[90m━━━━━━━━━━━━━━━━━━━━━━━━━━━━━━━━━━━━━━━━\u001b[0m \u001b[32m1.2/1.2 MB\u001b[0m \u001b[31m60.5 MB/s\u001b[0m eta \u001b[36m0:00:00\u001b[0m\n",
            "\u001b[2K     \u001b[90m━━━━━━━━━━━━━━━━━━━━━━━━━━━━━━━━━━━━━━━━\u001b[0m \u001b[32m130.2/130.2 kB\u001b[0m \u001b[31m11.3 MB/s\u001b[0m eta \u001b[36m0:00:00\u001b[0m\n",
            "\u001b[2K     \u001b[90m━━━━━━━━━━━━━━━━━━━━━━━━━━━━━━━━━━━━━━━━\u001b[0m \u001b[32m307.7/307.7 kB\u001b[0m \u001b[31m29.7 MB/s\u001b[0m eta \u001b[36m0:00:00\u001b[0m\n",
            "\u001b[2K     \u001b[90m━━━━━━━━━━━━━━━━━━━━━━━━━━━━━━━━━━━━━━━━\u001b[0m \u001b[32m86.8/86.8 kB\u001b[0m \u001b[31m10.9 MB/s\u001b[0m eta \u001b[36m0:00:00\u001b[0m\n",
            "\u001b[?25h  Building wheel for pypika (pyproject.toml) ... \u001b[?25l\u001b[?25hdone\n"
          ]
        }
      ],
      "source": [
        "!pip install -U -q langchain\n",
        "!pip install -U -q langchain_google_genai\n",
        "!pip install -U -q langchain_community\n",
        "!pip install -U -q langchain_text_splitters\n",
        "!pip install -U -q langchain_core\n",
        "!pip install -U -q langchainhub\n",
        "!pip install -U -q bs4\n",
        "!pip install -U -q duckduckgo-search\n",
        "!pip install -U -q wikipedia\n",
        "!pip install -U -q chromadb"
      ]
    },
    {
      "cell_type": "markdown",
      "source": [
        "**LANGCHAIN com Google Gemini**\n",
        "\n",
        "Nesta etapa inicial será feita a importação das bibliotecas, configuraçao da API KEY e definição do modelo e do embbeding que será utilizado"
      ],
      "metadata": {
        "id": "YHPdIVVhY-nC"
      }
    },
    {
      "cell_type": "code",
      "source": [
        "import os\n",
        "import getpass\n",
        "from langchain_google_genai import ChatGoogleGenerativeAI, GoogleGenerativeAIEmbeddings\n",
        "from langchain_community.agent_toolkits.load_tools import load_tools\n",
        "from langchain.agents import create_react_agent, AgentExecutor\n",
        "from langchain import hub\n",
        "\n",
        "from langchain_community.document_loaders import WebBaseLoader\n",
        "from langchain_community.vectorstores import Chroma\n",
        "import bs4\n",
        "\n",
        "from langchain_text_splitters import RecursiveCharacterTextSplitter\n",
        "from langchain_core.prompts import PromptTemplate\n",
        "\n",
        "from langchain_core.runnables import RunnableSequence\n",
        "\n",
        "if \"GOOGLE_API_KEY\" not in os.environ:\n",
        "    os.environ[\"GOOGLE_API_KEY\"] = getpass.getpass(\"insert_google_key_here\")\n",
        "\n",
        "llm = ChatGoogleGenerativeAI(model=\"gemini-pro\")\n",
        "google_embeddings = GoogleGenerativeAIEmbeddings(model=\"models/embedding-001\")"
      ],
      "metadata": {
        "id": "DmL8zQRZZPvC"
      },
      "execution_count": null,
      "outputs": []
    },
    {
      "cell_type": "markdown",
      "source": [
        "**Query informada pelo usuário**"
      ],
      "metadata": {
        "id": "WaABhAj5aCHu"
      }
    },
    {
      "cell_type": "code",
      "source": [
        "query= \"\"\"\n",
        "Vou viajar para Londres em agosto de 2024.\n",
        "Quero que faça para um roteiro de viagem para mim com eventos que irão ocorrer na data da viagem e com o preço de passagem de São Paulo para Londres.\n",
        "\"\"\""
      ],
      "metadata": {
        "id": "a0gKxc7CaJyt"
      },
      "execution_count": null,
      "outputs": []
    },
    {
      "cell_type": "markdown",
      "source": [
        "** *texto em itálico*Funções auxiliares**\n",
        "\n",
        "Foram criadas funções para consultar o DuckDuckGo e a Wikipedia, e também para fazer o parse de um site com dicas sobre o pais que vai ser visitado\n",
        "\n",
        "Documentação:\n",
        "\n",
        "https://python.langchain.com/v0.2/docs/integrations/document_loaders/web_base/\n",
        "\n",
        "https://api.python.langchain.com/en/latest/agents/langchain.agents.react.agent.create_react_agent.html\n",
        "\n",
        "https://smith.langchain.com/hub\n",
        "\n",
        "https://smith.langchain.com/hub/hwchase17/react\n",
        "\n",
        "https://python.langchain.com/v0.2/docs/integrations/tools/"
      ],
      "metadata": {
        "id": "Ya--_iYwaGla"
      }
    },
    {
      "cell_type": "code",
      "source": [
        "def researchAgent(query, llm):\n",
        "  tools = load_tools([\"ddg-search\", \"wikipedia\"], llm=llm)\n",
        "  prompt = hub.pull(\"hwchase17/react\")\n",
        "  agent = create_react_agent(llm, tools, prompt)\n",
        "  agent_executor = AgentExecutor(agent=agent, tools=tools, prompt=prompt, verbose=True)\n",
        "  webContext = agent_executor.invoke({ \"input\": query })\n",
        "  return webContext['output']\n",
        "\n",
        "# print(researchAgent(query, llm))\n",
        "\n",
        "def loadData():\n",
        "  loader = WebBaseLoader(\n",
        "  web_paths= (\"https://www.dicasdeviagem.com/inglaterra/\",),\n",
        "  bs_kwargs=dict(parse_only=bs4.SoupStrainer(class_=(\"postcontentwrap\", \"pagetitleloading background-imaged loading-dark\"))),)\n",
        "  docs = loader.load()\n",
        "  text_splitter = RecursiveCharacterTextSplitter(chunk_size=1000, chunk_overlap=200)\n",
        "  splits = text_splitter.split_documents(docs)\n",
        "  vectorstore = Chroma.from_documents(documents=splits, embedding=google_embeddings)\n",
        "  retriever = vectorstore.as_retriever()\n",
        "  return retriever\n"
      ],
      "metadata": {
        "id": "uaJRauVral5G"
      },
      "execution_count": null,
      "outputs": []
    },
    {
      "cell_type": "markdown",
      "source": [
        "**Pesquisa de documentos vetorizados**\n",
        "\n",
        "Utilizando o conteudo do site que foi vetorizado e armazendo de forma local no banco de vetores Chroma, será feita uma pesquisa por semelhança com base na consulta feita pelo usuário"
      ],
      "metadata": {
        "id": "vAkFNg6Bbmvb"
      }
    },
    {
      "cell_type": "code",
      "source": [
        "def getRelevantDocs(query):\n",
        "  retriever = loadData()\n",
        "  relevant_documents = retriever.invoke(query)\n",
        "  return relevant_documents\n"
      ],
      "metadata": {
        "id": "MAFz1S5Yb1Cu"
      },
      "execution_count": null,
      "outputs": []
    },
    {
      "cell_type": "markdown",
      "source": [
        "**Supervisor**\n",
        "\n",
        "Para integrar tanto a busca na Web e a busca por documentos, foi criado um supervisor para integrar todos os conteúdos numa única consulta."
      ],
      "metadata": {
        "id": "MrZOvQi4cD29"
      }
    },
    {
      "cell_type": "code",
      "source": [
        "def supervisorAgent(query, llm, webContext, relevant_documents):\n",
        "  prompt_template = \"\"\"\n",
        "  Você é um gerente de uma agência de viagens. Sua resposta final deverá ser um roteiro de viagem completo e detalhado.\n",
        "  Utilize o contexto de eventos e preços de passagens, o input do usuário e também os documentos relevantes para elaborar o roteiro.\n",
        "  Contexto: {webContext}\n",
        "  Documento relevante: {relevant_documents}\n",
        "  Usuário: {query}\n",
        "  Assistente:\n",
        "  \"\"\"\n",
        "\n",
        "  prompt = PromptTemplate(\n",
        "    input_variables=['webContext', 'relevant_documents', 'query'],\n",
        "    template = prompt_template\n",
        "  )\n",
        "\n",
        "  sequence = RunnableSequence(prompt | llm)\n",
        "  response = sequence.invoke({\"webContext\": webContext, \"relevant_documents\": relevant_documents, \"query\": query})\n",
        "  return response"
      ],
      "metadata": {
        "id": "L-H_xT7dcTdX"
      },
      "execution_count": null,
      "outputs": []
    },
    {
      "cell_type": "markdown",
      "source": [
        "Execução\n",
        "\n",
        "Para executar o nosso supervisor foi criada uma função que recebe como parâmetros a consulta do usuário e o nosso LLM que é o LangChain"
      ],
      "metadata": {
        "id": "wnPtflt9clbU"
      }
    },
    {
      "cell_type": "code",
      "source": [
        "def getResponse(query, llm):\n",
        "  webContext = researchAgent(query, llm)\n",
        "  relevant_documents = getRelevantDocs(query)\n",
        "  response = supervisorAgent(query, llm, webContext, relevant_documents)\n",
        "  return response\n",
        "\n",
        "print(getResponse(query, llm).content)"
      ],
      "metadata": {
        "colab": {
          "base_uri": "https://localhost:8080/"
        },
        "id": "_Zn4D5fxcueX",
        "outputId": "c64a7bfd-c565-48be-a383-2dbad510f401"
      },
      "execution_count": null,
      "outputs": [
        {
          "output_type": "stream",
          "name": "stdout",
          "text": [
            "\n",
            "\n",
            "\u001b[1m> Entering new AgentExecutor chain...\u001b[0m\n",
            "\u001b[32;1m\u001b[1;3mI need to find out what events are happening in London in August 2024 and the price of a plane ticket from São Paulo to London.\n",
            "Action: duckduckgo_search\n",
            "Action Input: events in London August 2024\u001b[0m\u001b[36;1m\u001b[1;3mUnmissable events in London in August. Celebrate August bank holiday weekend (24-26 Aug) at Europe's largest street festival, as the iconic Notting Hill Carnival returns to the streets of west London. 25-26 Aug. Feel the pomp at BBC Proms, an annual celebration of classical music at the Royal Albert Hall, which is in full swing in August. Events in London August 2024 16. Greenwich Music Time (August 6-10) Greenwich Music Time: Experience live performances at the historic Old Royal Naval College in Greenwich. The concert series features a mix of classical and contemporary acts. Contact Details +44 20 8269 4799. ... BBC Proms (All Month) The BBC Proms, the world's biggest and longest-running classical music festival, the BBC Proms is one of the top things to do in August in London. Since 1895, the BBC Proms has been a series of concerts lasting eight weeks. The event has held a special place in classical music and British culture. The London Craft Beer Festival returns for its 11th year. Over 80 breweries supply almost 500 beers. There are also chefs, excellent food, and DJs. Events take place at the Tobacco Dock warehouse in Hackney from August 9th - 10th, 2024. Check their website for details and to purchase tickets. The 10 Best Things to Do in London in August 2024. ... With an unmatched events calendar, London in August offers an unparalleled experience that's hard to beat! Related articles. Die BESTEN Events im Juli in London 2024 Juli steht für Sommer, für Badespaß und Open-Air-Kultur, Picknick und Straßenfeste. Man muss sich schon sehr anstrengen ...\u001b[0m\u001b[32;1m\u001b[1;3mThe Notting Hill Carnival is an annual event that takes place in London over the August bank holiday weekend. It's Europe's largest street festival and features a variety of music, food, and dancing.\n",
            "Action: wikipedia\n",
            "Action Input: Notting Hill Carnival\u001b[0m\u001b[33;1m\u001b[1;3mPage: Notting Hill Carnival\n",
            "Summary: The Notting Hill Carnival is an annual Caribbean Carnival event that has taken place in London since 1966 on the streets of the Notting Hill area of Kensington, over the August Bank Holiday weekend.\n",
            "It is led by members of the British Caribbean community, and attracts around three million people annually, making it one of the world's largest street festivals, and a significant event in British African Caribbean and British Indo-Caribbean culture. In 2006, the UK public voted it onto a list of icons of England.\n",
            "\n",
            "\n",
            "\n",
            "Page: Notting Hill\n",
            "Summary: Notting Hill is a district of West London, England, in the Royal Borough of Kensington and Chelsea. Notting Hill is known for being a cosmopolitan and multicultural neighbourhood, hosting the annual Notting Hill Carnival and the Portobello Road Market. From around 1870, Notting Hill had an association with artists.\n",
            "For much of the 20th century, the large houses were subdivided into multi-occupancy rentals. European, Caribbean (both African Caribbeans and White Caribbeans), African, Indian, Arab, Asian, South American, and other immigrants were drawn to the area in the 1950s, partly because of the cheap rents, but were exploited by slum landlords like Peter Rachman and also became the target of white Teddy Boys in the 1958 Notting Hill race riots.\n",
            "By the early 21st century, after decades of gentrification, Notting Hill had gained a reputation as an affluent and fashionable area, known for attractive terraces of large Victorian townhouses and high-end shopping and restaurants (particularly around Westbourne Grove and Clarendon Cross). A Daily Telegraph article in 2004 used the phrase \"the Notting Hill set\" to refer to a group of emerging Conservative politicians, such as David Cameron and George Osborne, who would become respectively Prime Minister and Chancellor of the Exchequer and were once based in Notting Hill.\n",
            "\n",
            "Page: 1958 Notting Hill race riots\n",
            "Summary: The Notting Hill race riots were a series of racially motivated riots that took place in Notting Hill, a district of London, the capital city of the United Kingdom between 29 August and 5 September 1958.\u001b[0m\u001b[32;1m\u001b[1;3mThe Notting Hill Carnival is a free event, so there is no admission fee. However, you may want to budget for food, drinks, and transportation.\n",
            "Action: duckduckgo_search\n",
            "Action Input: price of plane ticket from Sao Paulo to London August 2024\u001b[0m\u001b[36;1m\u001b[1;3mThu, Oct 24 GRU - LHR with Avianca. 1 stop. from $318. London.$369 per passenger.Departing Wed, Jul 24.One-way flight with LATAM Airlines.Outbound direct flight with LATAM Airlines departing from Sao Paulo Guarulhos on Wed, Jul 24, arriving in London Heathrow.Price includes taxes and charges.From $369, select. The deals you see here are the lowest prices for flight tickets from Sao Paulo to London found in the last 4 days, and are subject to change and availability. ... the average temperature is usually around 15°C. August is typically the warmest month in London, when it usually averages around 22°C. You can expect the least rain in March ... Virgin Atlantic Flights From Sao Paulo to London. Virgin Atlantic flight deals from Sao Paulo to London start from £652 round-trip. Over the 7 Virgin Atlantic flights for this route in a normal week, average airfare is usually £680 round-trip - but some users have found much cheaper deals with momondo. from ₹ 94,305. London. ₹ 94,864 per passenger.Departing Sun, 23 Jun.One-way flight with GOL Linhas Aéreas.Outbound indirect flight with GOL Linhas Aéreas, departs from Sao Paulo Congonhas on Sun, 23 Jun, arriving in London Heathrow.Price includes taxes and charges.From ₹ 94,864, select. Sun, 23 Jun CGH - LHR with GOL Linhas Aéreas. Flex your dates to find the best Sao Paulo-London ticket prices. ... Once you've secured your cheap flight ticket from Sao Paulo to London, discover the best prices and exclusive rates for hotels in London or nearby. You can also compare hundreds of car hire companies in one go so that you get the best car hire price for your trip ...\u001b[0m\u001b[32;1m\u001b[1;3mThe price of a plane ticket from São Paulo to London in August 2024 varies depending on the airline and the dates of travel. However, you can expect to pay between $318 and $94,864 for a one-way ticket.\n",
            "Final Answer: \n",
            "Here is a possible itinerary for your trip to London in August 2024:\n",
            "\n",
            "**Day 1:**\n",
            "\n",
            "* Arrive in London and check into your hotel.\n",
            "* Visit the Tower of London, a historic castle that has been used as a royal palace, a prison, and an execution site.\n",
            "* Take a walk along the River Thames and enjoy the views of the city.\n",
            "\n",
            "**Day 2:**\n",
            "\n",
            "* Visit the British Museum, one of the world's largest and most comprehensive museums.\n",
            "* See a show in the West End, London's theater district.\n",
            "* Have dinner at one of London's many Michelin-starred restaurants.\n",
            "\n",
            "**Day 3:**\n",
            "\n",
            "* Visit Buckingham Palace, the official residence of the British monarch.\n",
            "* Take a walk through Hyde Park, one of London's largest and most beautiful parks.\n",
            "* Visit the Notting Hill Carnival, Europe's largest street festival.\n",
            "\n",
            "**Day 4:**\n",
            "\n",
            "* Visit the Houses of Parliament, the seat of the British Parliament.\n",
            "* Take a boat trip down the River Thames.\n",
            "* Visit the London Eye, a giant Ferris wheel that offers stunning views of the city.\n",
            "\n",
            "**Day 5:**\n",
            "\n",
            "* Depart from London.\n",
            "\n",
            "This itinerary can be customized to fit your interests and budget. For example, if you are interested in art, you could spend more time visiting museums. If you are on a tight budget, you could stay in a hostel and eat at less expensive restaurants.\n",
            "\n",
            "No matter what your interests are, you are sure to have a wonderful time in London. The city is full of history, culture, and entertainment.\u001b[0m\n",
            "\n",
            "\u001b[1m> Finished chain.\u001b[0m\n",
            "[Document(metadata={'source': 'https://www.dicasdeviagem.com/inglaterra/'}, page_content='Reserve com anteced√™ncia todos os ingressos e passeios e evite filas com o GetYourGuide\\nOnde ficar na Inglaterra\\nA Inglaterra tem √≥timas op√ß√µes de hot√©is por todo o pa√≠s. Em Londres, √© melhor procurar hospedagem nos bairros mais centrais, embora o pre√ßo de uma estadia na capital n√£o seja dos mais baratos. Para economizar no hotel, procure alternativas em bairros mais afastados, mas com bom acesso ao metr√¥.\\nNas outras cidades, a regra praticamente √© a mesma – ao se hospedar nas regi√µes mais centrais, voc√™ garante f√°cil acesso aos principais locais de interesse e monumentos. Por√©m, uma grande vantagem √© que os pre√ßos s√£o mais atrativos que os praticados na capital.\\nAgora, se voc√™ for explorar a parte mais interior do pa√≠s, pode encontrar hot√©is em castelos ou constru√ß√µes medievais que valem a pena a reservar pela experi√™ncia √∫nica.\\nLeia todas nossas dicas:'), Document(metadata={'source': 'https://www.dicasdeviagem.com/inglaterra/'}, page_content='O que fazer na Inglaterra\\nLondres √© o destino campe√£o de procura por quem vai √† Inglaterra. A capital √© uma metr√≥pole com atrativos infinitos, e que pode ocupar bons dias do roteiro da viagem por si s√≥. Mas al√©m dela, existem v√°rias outras cidades que valem uma visita, como Manchester, Liverpool, Brighton, Bristol, Bath ou mesmo a regi√£o de Somerset, por exemplo.\\nA maioria dos monumentos mais famosos do pa√≠s ficam em Londres, mas existem outras atividades incr√≠veis em outras localidades. Um dos maiores destaques √© o Stonehenge, uma forma√ß√£o de pedras pr√©-hist√≥ria que intriga a humanidade at√© os dias atuais.\\nAl√©m de explorar o territ√≥rio, n√£o esque√ßa de experimentar alguns dos pratos t√≠picos ingleses mais marcantes, como famoso fish and chips – uma por√ß√£o de peixe com batatas fritas perfeita para uma boquinha nas terras brit√¢nicas.\\nLeia todas nossas dicas:'), Document(metadata={'source': 'https://www.dicasdeviagem.com/inglaterra/'}, page_content='Pontos Tur√≠sticos da Inglaterra ‚Äì 19 Lugares para Visitar\\nPontos tur√≠sticos de Londres ‚Äì As atra√ß√µes indispens√°veis para sua viagem\\nO que fazer em Bath ‚Äì Atra√ß√µes imperd√≠veis na cidade\\nBrighton Inglaterra ‚Äì O Guia Completo Para Viajantes\\nO que fazer em Londres de 1 a 7 dias\\nLondon Eye ‚Äì Tudo sobre a Roda Gigante de Londres\\nO que fazer em Bristol na Inglaterra\\nO que fazer em Londres em 3 dias'), Document(metadata={'source': 'https://www.dicasdeviagem.com/inglaterra/'}, page_content='Hospedagens no centro das cidades s√£o as melhores op√ß√µes – Foto: Unsplash\\nETA Inglaterra\\nETA √© a sigla para Autoriza√ß√£o Eletr√¥nica de Viagem (do ingl√™s\\xa0electronic travel authorization), ou seja, √© um formul√°rio online que deve ser preenchido para validar a entrada dos viajantes nas fronteiras da Inglaterra. Ela ser√° obrigat√≥ria para todos os brasileiros.\\nAssim, o governo brit√¢nico pode ter maior controle de quem est√° entrando no Reino Unido, ao analisar cuidadosamente o motivo de cada viagem e melhorando, dessa forma, a seguran√ßa dos seus territ√≥rios. Tamb√©m √© importante destacar que a ETA vai valer para todos os pa√≠ses do\\xa0Reino Unido:\\xa0Inglaterra,\\xa0Irlanda do Norte,\\xa0Esc√≥cia\\xa0e Pa√≠s de Gales.\\nChip de celular para Inglaterra')]\n",
            "**Roteiro de Viagem para Londres em Agosto de 2024**\n",
            "\n",
            "**Dia 1:**\n",
            "\n",
            "* **Manhã:** Chegue a Londres e faça o check-in no seu hotel.\n",
            "* **Tarde:** Visite a Torre de Londres, um castelo histórico que foi usado como palácio real, prisão e local de execução.\n",
            "* **Noite:** Faça um passeio ao longo do Rio Tâmisa e desfrute das vistas da cidade.\n",
            "\n",
            "**Dia 2:**\n",
            "\n",
            "* **Manhã:** Visite o Museu Britânico, um dos maiores e mais completos museus do mundo.\n",
            "* **Tarde:** Assista a um espetáculo no West End, o distrito teatral de Londres.\n",
            "* **Noite:** Jante em um dos muitos restaurantes estrelados de Londres.\n",
            "\n",
            "**Dia 3:**\n",
            "\n",
            "* **Manhã:** Visite o Palácio de Buckingham, a residência oficial do monarca britânico.\n",
            "* **Tarde:** Faça um passeio pelo Hyde Park, um dos maiores e mais belos parques de Londres.\n",
            "* **Noite:** Participe do Notting Hill Carnival, o maior festival de rua da Europa.\n",
            "\n",
            "**Dia 4:**\n",
            "\n",
            "* **Manhã:** Visite o Palácio de Westminster, a sede do Parlamento britânico.\n",
            "* **Tarde:** Faça um passeio de barco pelo Rio Tâmisa.\n",
            "* **Noite:** Visite o London Eye, uma roda-gigante gigante que oferece vistas deslumbrantes da cidade.\n",
            "\n",
            "**Dia 5:**\n",
            "\n",
            "* **Manhã:** Visite a Abadia de Westminster, uma igreja histórica onde muitos reis e rainhas britânicos foram coroados e sepultados.\n",
            "* **Tarde:** Faça compras de souvenirs e presentes na Oxford Street, uma das ruas comerciais mais famosas do mundo.\n",
            "* **Noite:** Assista a um espetáculo no Royal Opera House, um dos locais de espetáculos mais prestigiados do mundo.\n",
            "\n",
            "**Dia 6:**\n",
            "\n",
            "* **Manhã:** Visite a Galeria Nacional, que abriga uma coleção de pinturas de mestres antigos e modernos.\n",
            "* **Tarde:** Faça um passeio pelo South Bank, uma área vibrante ao longo do Rio Tâmisa, que abriga o London Eye, o Shakespeare's Globe Theatre e muitos outros locais culturais.\n",
            "* **Noite:** Jante em um restaurante com vista para o Rio Tâmisa.\n",
            "\n",
            "**Dia 7:**\n",
            "\n",
            "* **Manhã:** Visite o Museu de História Natural, que abriga uma vasta coleção de espécimes de história natural, incluindo fósseis, animais empalhados e plantas.\n",
            "* **Tarde:** Faça um passeio pelo Jardim Botânico de Kew, um Patrimônio Mundial da UNESCO com uma coleção diversificada de plantas de todo o mundo.\n",
            "* **Noite:** Desfrute de um jantar de despedida em um restaurante tradicional britânico.\n",
            "\n",
            "**Dia 8:**\n",
            "\n",
            "* Partida de Londres.\n",
            "\n",
            "**Eventos que ocorrerão na data da viagem em agosto de 2024:**\n",
            "\n",
            "* Notting Hill Carnival (25 e 26 de agosto)\n",
            "* Festival de Edimburgo (até 26 de agosto)\n",
            "* Campeonato de Tênis de Wimbledon (até 14 de julho)\n",
            "\n",
            "**Preços das passagens aéreas de São Paulo para Londres em agosto de 2024:**\n",
            "\n",
            "* **Ida e volta:** A partir de R$ 3.500,00\n",
            "* **Só ida:** A partir de R$ 2.000,00\n",
            "\n",
            "**Observações:**\n",
            "\n",
            "* Os preços das passagens aéreas estão sujeitos a alterações e disponibilidade.\n",
            "* É recomendável reservar voos e acomodações com antecedência para garantir os melhores preços.\n",
            "* O visto não é necessário para cidadãos brasileiros que viajam para o Reino Unido para fins turísticos por até 90 dias.\n",
            "* A moeda oficial do Reino Unido é a libra esterlina (GBP).\n"
          ]
        }
      ]
    }
  ]
}